{
  "nbformat": 4,
  "nbformat_minor": 0,
  "metadata": {
    "colab": {
      "provenance": []
    },
    "kernelspec": {
      "name": "python3",
      "display_name": "Python 3"
    },
    "language_info": {
      "name": "python"
    }
  },
  "cells": [
    {
      "cell_type": "markdown",
      "source": [
        "# O que é a cadeia de Markov?\n",
        "\n",
        "## Conceito Básico\n",
        "Imagine que temos um conjunto de estados\n",
        "𝑆, e cada estado representa uma possível situação em que o sistema pode estar. A cadeia de Markov descreve uma \"caminhada\" entre esses estados. Em um modelo de Markov de primeira ordem, a probabilidade de um estado futuro depende apenas do estado atual e não dos anteriores. Isso simplifica bastante o cálculo de probabilidades ao longo do tempo.\n",
        "\n",
        "\n",
        "## Exemplo Prático: Gerador de Texto\n",
        "Imagine que queremos gerar frases com base em um texto. Com a cadeia de Markov, podemos pegar uma frase e contar a frequência das transições entre as palavras.\n",
        "\n",
        "Suponha que você tem a frase `\"o gato dorme no tapete\"`. Podemos fazer o seguinte mapeamento de transição de palavras:\n",
        "\n",
        "> \"o\" → \"gato\"\n",
        ">\n",
        "> \"gato\" → \"dorme\"\n",
        ">\n",
        "> \"dorme\" → \"no\"\n",
        ">\n",
        "> \"no\" → \"tapete\"\n",
        "\n",
        "Depois de processar várias frases, construímos um modelo de probabilidade que diz que, por exemplo, a palavra \"o\" tem uma alta chance de ser seguida por \"gato\" e que \"dorme\" é seguido por \"no\".\n",
        "\n",
        "Se quisermos gerar uma frase, podemos escolher uma palavra inicial (ex., \"o\") e seguir as transições prováveis para criar uma sequência como: \"o gato dorme no tapete\".\n"
      ],
      "metadata": {
        "id": "EdLBbdqQktT8"
      }
    },
    {
      "cell_type": "markdown",
      "source": [
        "## Exemplo de Frases de Entrada\n",
        "\n",
        "As frases fornecidas para construir a cadeia de Markov são:\n",
        "\n",
        "1. `Café ajuda na concentração`\n",
        "2. `Na hora de programar, ajuda um café`\n",
        "3. `Ajuda eu a programar pegando um café`\n",
        "\n",
        "Essas frases são separadas em pares de palavras (estado atual e próxima palavra) para definir transições de estado. As probabilidades de transição são calculadas com base na frequência de cada transição observada nas frases.\n",
        "\n",
        "### Tabela de Transições e Probabilidades\n",
        "\n",
        "| Estado                     | Próxima Palavra | Frequência | Probabilidade (%) |\n",
        "|----------------------------|-----------------|------------|-------------------|\n",
        "| Café                       | ajuda           | 1          | 100%              |\n",
        "| ajuda                      | na, um          | 1, 1       | 50%, 50%          |\n",
        "| Ajuda                      | eu              | 1          | 100%              |\n",
        "\n",
        "\n",
        "## Como Funciona\n",
        "\n",
        "1. **Construção da Cadeia**: As frases de entrada são analisadas e divididas em pares de palavras consecutivas.\n",
        "2. **Probabilidades de Transição**: A probabilidade de cada transição é calculada dividindo a frequência de cada par pelo total de ocorrências do estado inicial.\n",
        "3. **Geração de Frases**: Para gerar uma nova frase, o algoritmo escolhe um estado inicial e, com base nas probabilidades, segue as transições até alcançar um estado final.\n",
        "\n",
        "## Exemplo de Geração de Frase\n",
        "\n",
        "Suponha que o estado inicial seja `Café ajuda`:\n",
        "- Com 100% de probabilidade, a próxima palavra será `na`.\n",
        "- Em seguida, de `ajuda na`, a transição para `concentração` tem 100% de probabilidade.\n",
        "- Assim, o algoritmo gera a frase `Café ajuda na concentração`.\n",
        "\n",
        "Esse processo pode ser repetido para gerar novas frases que sigam os padrões observados."
      ],
      "metadata": {
        "id": "IgXc67Y1jV2C"
      }
    },
    {
      "cell_type": "code",
      "source": [
        "import random\n",
        "from collections import defaultdict\n",
        "\n",
        "def construir_modelo_markov(frases):\n",
        "  \"\"\"\n",
        "  Constrói um modelo de Markov a partir de um vetor de frases.\n",
        "\n",
        "  Parameters\n",
        "  ----------\n",
        "  frases : list\n",
        "      Uma lista de frases para construir o modelo.\n",
        "\n",
        "  Returns\n",
        "  ----------\n",
        "  modelo : dict\n",
        "      Um dicionário que mapeia palavras a listas de palavras seguintes.\n",
        "  \"\"\"\n",
        "\n",
        "  modelo = defaultdict(list)\n",
        "  for frase in frases:\n",
        "      palavras = frase.split()\n",
        "      for i in range(len(palavras) - 1):\n",
        "          modelo[palavras[i]].append(palavras[i + 1])\n",
        "  return modelo\n",
        "\n",
        "def gerar_texto(modelo, palavra_inicial, tamanho=10):\n",
        "  \"\"\"\n",
        "  Gera um texto com base no modelo de Markov, passando, o modelo, a palavra inicial e o tamanho desejado.\n",
        "\n",
        "  Parameters\n",
        "  ----------\n",
        "  modelo : dict\n",
        "      Um dicionário que mapeia palavras a listas de palavras seguintes.\n",
        "  palavra_inicial : str\n",
        "      A palavra a partir da qual o texto será gerado.\n",
        "  tamanho : int, opcional\n",
        "      O número de palavras a serem geradas. O padrão é 10.\n",
        "\n",
        "  Returns\n",
        "  ----------\n",
        "      Um texto gerado com base no modelo de Markov.\n",
        "  \"\"\"\n",
        "\n",
        "  palavra_atual = palavra_inicial\n",
        "  resultado = [palavra_atual]\n",
        "\n",
        "  for _ in range(tamanho - 1):\n",
        "      if palavra_atual not in modelo or not modelo[palavra_atual]:\n",
        "          break  # Interrompe se não houver próxima palavra\n",
        "      proxima_palavra = random.choice(modelo[palavra_atual])\n",
        "      resultado.append(proxima_palavra)\n",
        "      palavra_atual = proxima_palavra\n",
        "  return ' '.join(resultado)"
      ],
      "metadata": {
        "id": "OL5FocidkdUy"
      },
      "execution_count": 40,
      "outputs": []
    },
    {
      "cell_type": "code",
      "source": [
        "# Exemplo de uso com um vetor de frases\n",
        "frases_exemplo = [\n",
        "    \"o gato dorme no tapete\",\n",
        "    \"o cachorro late na rua\",\n",
        "    \"a gata observa o cachorro\",\n",
        "    \"a gata está miando\",\n",
        "    \"o tapete é macio\",\n",
        "    \"a rua está movimentada\",\n",
        "    \"o gato pula no sofá\"\n",
        "]\n",
        "\n",
        "# printa cada palavra e as possibilidades qjue ela tem\n",
        "modelo_markov = construir_modelo_markov(frases_exemplo)\n",
        "for palavra, proximo_palavras in modelo_markov.items():\n",
        "    print(f\"{palavra}: {proximo_palavras}\")"
      ],
      "metadata": {
        "colab": {
          "base_uri": "https://localhost:8080/"
        },
        "id": "gwb4RKMblxJa",
        "outputId": "fec4d3a2-de9e-4151-d16f-1fd243f58a8c"
      },
      "execution_count": 41,
      "outputs": [
        {
          "output_type": "stream",
          "name": "stdout",
          "text": [
            "o: ['gato', 'cachorro', 'cachorro', 'tapete', 'gato']\n",
            "gato: ['dorme', 'pula']\n",
            "dorme: ['no']\n",
            "no: ['tapete', 'sofá']\n",
            "cachorro: ['late']\n",
            "late: ['na']\n",
            "na: ['rua']\n",
            "a: ['gata', 'gata', 'rua']\n",
            "gata: ['observa', 'está']\n",
            "observa: ['o']\n",
            "está: ['miando', 'movimentada']\n",
            "tapete: ['é']\n",
            "é: ['macio']\n",
            "rua: ['está']\n",
            "pula: ['no']\n"
          ]
        }
      ]
    },
    {
      "cell_type": "code",
      "source": [
        "print(gerar_texto(modelo_markov, \"gata\", 5))"
      ],
      "metadata": {
        "colab": {
          "base_uri": "https://localhost:8080/"
        },
        "id": "dlOXx3fKlupS",
        "outputId": "fa8d952f-b963-4afe-f16a-0df279effac5"
      },
      "execution_count": 42,
      "outputs": [
        {
          "output_type": "stream",
          "name": "stdout",
          "text": [
            "gata está movimentada\n"
          ]
        }
      ]
    },
    {
      "cell_type": "markdown",
      "source": [
        "# Como podemos melhorar o modelo?\n",
        "\n",
        "- Considerar de outra maneira \"ajuda\" e \"Ajuda\"\n",
        "- Considerar trazer % para considerar a decisão\n",
        "- Quebrar palavras em pedaçõs menores ainda, como exemplo por exemplo, **gat** poderia ser:\n",
        "  - gata\n",
        "  - gato\n",
        "  - gateway\n",
        "  - gatuno\n",
        "  - gatuna\n",
        "  - ...\n",
        "\n",
        "## Tentando mudar para porcentagem e ver o comportamento\n",
        "\n",
        "Antes pegavamos o primeiro das opções, podemos pegar com %."
      ],
      "metadata": {
        "id": "x6U7fjozlHdp"
      }
    },
    {
      "source": [
        "from collections import defaultdict, Counter\n",
        "import random\n",
        "\n",
        "def construir_modelo_markov_porcentagem(frases):\n",
        "  modelo = construir_modelo_markov(frases)\n",
        "\n",
        "  # coloca a porcentagem com base na qtd de palavras no dict\n",
        "  for palavra, proximo_palavras in modelo.items():\n",
        "      total_proximos = len(proximo_palavras)\n",
        "      # Count occurrences of each next word\n",
        "      contagem_proximos = Counter(proximo_palavras)\n",
        "      # Calculate percentage for each next word based on its count\n",
        "      modelo[palavra] = {proxima: (count / total_proximos) * 100 for proxima, count in contagem_proximos.items()}\n",
        "\n",
        "  return modelo\n",
        "\n",
        "for palavra, proximo_palavras in construir_modelo_markov_porcentagem(frases_exemplo).items():\n",
        "    print(f\"{palavra}: {proximo_palavras}\")"
      ],
      "cell_type": "code",
      "metadata": {
        "colab": {
          "base_uri": "https://localhost:8080/"
        },
        "id": "sdjvsmYWntgj",
        "outputId": "1e7b0874-91f1-4d96-f7a9-67fba996dffe"
      },
      "execution_count": 43,
      "outputs": [
        {
          "output_type": "stream",
          "name": "stdout",
          "text": [
            "o: {'gato': 40.0, 'cachorro': 40.0, 'tapete': 20.0}\n",
            "gato: {'dorme': 50.0, 'pula': 50.0}\n",
            "dorme: {'no': 100.0}\n",
            "no: {'tapete': 50.0, 'sofá': 50.0}\n",
            "cachorro: {'late': 100.0}\n",
            "late: {'na': 100.0}\n",
            "na: {'rua': 100.0}\n",
            "a: {'gata': 66.66666666666666, 'rua': 33.33333333333333}\n",
            "gata: {'observa': 50.0, 'está': 50.0}\n",
            "observa: {'o': 100.0}\n",
            "está: {'miando': 50.0, 'movimentada': 50.0}\n",
            "tapete: {'é': 100.0}\n",
            "é: {'macio': 100.0}\n",
            "rua: {'está': 100.0}\n",
            "pula: {'no': 100.0}\n"
          ]
        }
      ]
    },
    {
      "cell_type": "code",
      "source": [
        "def gerar_texto_porcentagem(modelo, palavra_inicial, tamanho=10):\n",
        "  modelo = construir_modelo_markov_porcentagem(frases_exemplo)\n",
        "  palavra_atual = palavra_inicial\n",
        "  resultado = [palavra_atual]\n",
        "\n",
        "  for _ in range(tamanho):\n",
        "      if palavra_inicial not in modelo:\n",
        "          break\n",
        "      proximos = modelo[palavra_inicial]\n",
        "      proxima_palavra = random.choices(list(proximos.keys()), weights=list(proximos.values()))[0]\n",
        "\n",
        "      print(proxima_palavra, end=' ')\n",
        "      palavra_inicial = proxima_palavra\n",
        "\n",
        "      resultado.append(proxima_palavra)\n",
        "\n",
        "  return ' '.join(resultado)\n"
      ],
      "metadata": {
        "id": "GInd7a7un4Ch"
      },
      "execution_count": 44,
      "outputs": []
    },
    {
      "cell_type": "code",
      "source": [
        "inicio = \"gata\"\n",
        "\n",
        "for i in range(4):\n",
        "  print(inicio, end=' ')\n",
        "  print(gerar_texto_porcentagem(modelo_markov, inicio, 5))"
      ],
      "metadata": {
        "colab": {
          "base_uri": "https://localhost:8080/"
        },
        "id": "2enqBWkBoZh3",
        "outputId": "c42a466d-7e12-4108-98a0-bbb0210f1382"
      },
      "execution_count": 46,
      "outputs": [
        {
          "output_type": "stream",
          "name": "stdout",
          "text": [
            "gata observa o cachorro late na gata observa o cachorro late na\n",
            "gata observa o cachorro late na gata observa o cachorro late na\n",
            "gata está movimentada gata está movimentada\n",
            "gata está miando gata está miando\n"
          ]
        }
      ]
    },
    {
      "cell_type": "markdown",
      "source": [
        "# O que podemos observar?\n",
        "\n",
        "## **Antes**\n",
        "- Modelo gerar a mesma frase sempre, ajudava muito, mas só com as mesmas X palavras...\n",
        "- Sempre pegava a mesma palavra\n",
        "\n",
        "## **Depois**\n",
        "- Modelo gera frases diferentes (pois pega o que tem a maior probabilidade, podendo gerar frases mais coesas)\n",
        "- Pega a palavra que mais foi usada nas frases que ele treinou\n",
        "- **PROBLEMA**: pode cair em um erro de ficar em loop (pois é tipo um grafo)"
      ],
      "metadata": {
        "id": "Sx3TGYaGpaZC"
      }
    }
  ]
}